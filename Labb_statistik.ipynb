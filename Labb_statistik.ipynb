{
 "cells": [
  {
   "cell_type": "code",
   "execution_count": 13,
   "metadata": {},
   "outputs": [
    {
     "name": "stdout",
     "output_type": "stream",
     "text": [
      "[4.6, 5.2, 5.2, 4.8, 6.0, 5.6, 5.6, 5.8, 5.6, 6.2, 5.2, 5.0, 5.8, 5.6, 5.6, 5.4, 6.0, 5.8, 5.4, 5.8, 5.4, 5.0, 6.0, 5.4, 5.6, 5.6, 5.4, 5.2, 5.4, 4.8, 5.0, 5.0, 5.6, 5.8, 6.0, 5.6, 4.8, 4.6, 5.6, 5.0, 6.4, 5.8, 5.4, 5.6, 6.0, 5.0, 6.0, 5.8, 5.2, 5.8, 5.4, 5.4, 5.8, 5.0, 4.4, 6.2, 5.8, 5.8, 5.6, 4.8, 5.6, 5.4, 4.8, 5.6, 6.0, 5.2, 6.2, 5.8, 5.0, 5.2, 5.4, 6.4, 4.8, 6.0, 5.8, 6.6, 4.8, 5.4, 4.8, 5.6, 6.0, 5.6, 5.2, 5.0, 5.2, 5.8, 6.0, 5.2, 5.0, 5.2, 5.4, 5.2, 4.8, 5.2, 5.4, 5.0, 5.2, 6.4, 5.2, 5.6, 5.8, 4.2, 6.2, 5.2, 5.4, 4.8, 5.2, 5.6, 4.4, 5.6, 5.4, 6.0, 5.4, 5.2, 6.4, 5.6, 5.4, 5.2, 5.6, 5.8, 6.2, 5.2, 6.4, 5.2, 5.6, 5.0, 5.4, 6.4, 5.8, 5.8, 5.6, 6.0, 5.8, 5.0, 5.6, 5.2, 5.4, 5.4, 5.0, 5.6, 4.8, 6.0, 5.6, 5.6, 6.0, 5.8, 5.0, 5.0, 4.8, 5.0, 5.2, 6.4, 5.4, 4.6, 5.0, 5.4, 5.8, 6.0, 5.8, 5.2, 4.6, 5.8, 5.4, 5.2, 5.0, 5.8, 6.2, 6.0, 6.6, 6.4, 5.8, 5.6, 6.6, 5.4, 5.4, 5.4, 5.8, 6.0, 5.6, 4.4, 6.4, 5.4, 5.2, 6.2, 5.0, 5.8, 5.4, 5.6, 5.2, 5.4, 5.2, 4.8, 5.4, 4.8, 4.8, 5.2, 5.2, 5.0, 5.4, 5.6, 4.6, 5.6, 5.8, 5.6, 4.6, 5.8, 5.8, 4.4, 5.6, 5.6, 4.6, 5.6, 5.4, 5.0, 5.0, 5.8, 5.8, 5.0, 5.6, 5.6, 5.6, 5.6, 5.2, 5.4, 5.6, 5.2, 6.0, 5.6, 5.8, 6.4, 5.4, 5.4, 5.0, 6.6, 6.0, 6.4, 5.2, 4.8, 5.4, 5.8, 5.8, 5.8, 6.2, 5.4, 5.0, 5.2, 5.2, 4.4, 4.8, 6.4, 5.4, 5.4, 5.4, 5.0, 5.0, 5.0, 6.0, 6.6, 5.8, 6.4, 5.2, 6.2, 4.4, 5.4, 5.2, 5.0, 5.4, 6.4, 5.6, 4.8, 5.4, 5.4, 5.4, 5.0, 4.4, 5.8, 4.8, 5.4, 5.2, 5.4, 5.2, 5.0, 5.2, 5.2, 6.0, 5.0, 5.4, 6.4, 6.0, 6.0, 5.4, 6.2, 4.8, 5.8, 6.2, 5.4, 5.8, 6.2, 6.6, 5.0, 5.4, 5.2, 6.2, 6.2, 6.6, 5.4, 5.4, 5.6, 4.8, 5.8, 6.0, 5.2, 5.4, 5.4, 5.6, 5.8, 4.6, 6.0, 5.6, 4.8, 5.8, 5.0, 6.4, 6.2, 5.6, 5.2, 6.0, 5.4, 6.0, 6.2, 4.6, 5.4, 5.8, 6.0, 5.2, 5.0, 6.0, 5.2, 5.6, 6.4, 5.2, 5.8, 5.4, 5.4, 5.0, 6.2, 5.0, 5.6, 4.8, 5.0, 6.2, 5.0, 5.6, 5.4, 5.8, 5.6, 5.2, 4.8, 5.8, 5.4, 5.6, 4.8, 4.8, 6.6, 5.6, 5.2, 6.0, 6.2, 5.6, 5.6, 6.0, 6.0, 5.2, 5.4, 6.4, 6.0, 5.2, 5.0, 6.0, 6.4, 5.6, 5.2, 5.4, 6.6, 5.6, 6.2, 5.0, 6.0, 5.8, 5.6, 6.2, 4.8, 5.8, 5.0, 5.0, 5.4, 5.4, 4.8, 6.8, 5.2, 5.4, 5.8, 5.2, 5.4, 4.8, 4.8, 4.6, 5.2, 5.0, 5.2, 5.6, 6.4, 5.4, 5.6, 5.2, 5.6, 5.2, 4.8, 6.0, 5.8, 5.4, 5.6, 5.6, 4.6, 5.6, 5.8, 4.0, 6.4, 5.4, 6.2, 4.8, 4.8, 5.2, 4.8, 5.4, 5.6, 6.2, 5.8, 5.6, 5.2, 6.2, 5.4, 6.2, 6.4, 5.0, 4.6, 5.6, 5.2, 5.8, 5.6, 5.6, 5.4, 5.6, 4.8, 6.0, 6.6, 5.2, 5.4, 5.6, 5.8, 5.2, 5.2, 5.8, 6.4, 6.0, 6.2, 6.0, 5.8, 5.4, 6.2, 5.2, 4.6, 5.4, 5.2, 6.2, 5.0, 6.0, 5.6, 5.4, 5.8, 5.4, 6.4, 5.0, 5.0, 5.4, 5.4, 5.4, 5.6, 6.2, 5.6, 5.0, 5.4, 5.8, 5.6, 5.6, 4.8, 5.2, 5.4, 5.6, 5.0, 5.0, 5.4, 5.0, 6.0, 6.4, 6.2, 6.2, 6.4, 6.2, 6.4, 4.6, 5.4, 5.2, 4.8, 5.0, 4.6, 5.2, 4.6, 5.6, 6.2, 5.6, 5.8, 4.8, 5.6, 4.8, 5.4, 5.6, 5.4, 5.4, 6.8, 5.2, 6.4, 5.8, 6.0, 5.0, 5.2, 6.0, 5.4, 5.4, 6.2, 4.6, 5.4, 6.2, 5.6, 5.8, 5.6, 5.4, 5.4, 6.0, 6.0, 4.2, 5.4, 5.8, 5.6, 5.4, 5.2, 6.2, 5.4, 5.6, 5.2, 4.8, 4.8, 5.6, 5.4, 5.2, 5.8, 5.6, 6.0, 6.0, 5.6, 6.2, 4.8, 5.2, 5.8, 5.4, 4.4, 4.8, 6.2, 5.0, 5.6, 4.6, 6.0, 4.8, 6.0, 5.6, 5.8, 5.4, 5.8, 5.4, 6.2, 6.0, 5.6, 5.2, 5.6, 5.6, 5.4, 6.0, 4.8, 5.8, 6.0, 5.0, 5.4, 6.0, 5.8, 5.4, 5.0, 6.0, 5.2, 6.2, 6.0, 5.8, 4.2, 6.0, 5.6, 4.4, 5.0, 5.0, 4.4, 5.4, 6.0, 4.8, 5.8, 5.8, 5.0, 4.8, 5.4, 5.2, 6.0, 5.2, 5.2, 5.2, 5.8, 5.8, 5.8, 5.2, 5.8, 4.8, 6.2, 5.0, 6.0, 5.8, 4.6, 6.2, 5.0, 5.2, 5.6, 6.2, 5.0, 5.6, 6.0, 5.8, 6.0, 5.8, 6.0, 5.4, 4.8, 5.0, 6.2, 5.8, 6.0, 5.6, 5.6, 6.0, 5.0, 4.2, 6.4, 5.2, 5.2, 5.8, 5.0, 4.6, 5.2, 6.2, 5.6, 5.4, 5.2, 5.4, 6.2, 6.4, 4.8, 5.2, 5.4, 5.8, 4.8, 5.6, 6.2, 6.0, 6.0, 5.4, 5.8, 5.8, 6.2, 4.4, 6.0, 5.6, 6.0, 4.6, 6.0, 5.0, 5.2, 5.6, 4.4, 6.2, 6.4, 5.0, 5.8, 5.2, 5.4, 5.4, 6.0, 6.0, 5.0, 5.8, 6.0, 5.2, 6.0, 5.8, 5.4, 6.0, 5.0, 5.4, 5.6, 4.8, 6.4, 6.4, 5.4, 5.4, 6.0, 5.2, 5.0, 5.8, 5.4, 5.4, 5.2, 4.6, 6.2, 6.6, 5.4, 5.4, 5.2, 5.2, 6.0, 5.6, 4.8, 4.8, 5.2, 5.6, 6.4, 5.0, 5.4, 5.4, 5.4, 6.4, 5.2, 4.8, 6.0, 5.6, 5.2, 5.2, 6.4, 5.2, 5.2, 5.0, 5.4, 5.8, 5.4, 5.0, 6.2, 5.6, 5.4, 4.8, 5.0, 6.6, 6.6, 5.8, 6.2, 5.4, 5.8, 6.2, 5.4, 6.2, 5.0, 5.0, 5.6, 5.2, 5.2, 5.4, 5.0, 5.8, 5.6, 5.6, 4.6, 5.4, 5.8, 5.6, 5.6, 5.4, 5.8, 5.0, 5.8, 5.4, 6.2, 5.4, 5.2, 5.8, 5.4, 5.2, 6.2, 5.0, 4.8, 5.6, 5.0, 5.0, 5.4, 5.0, 4.4, 5.6, 5.0, 6.2, 6.4, 5.4, 5.8, 6.2, 5.8, 4.8, 4.4, 5.8, 6.0, 5.2, 5.8, 5.8, 5.6, 5.8, 4.8, 5.2, 5.8, 5.6, 5.2, 5.2, 4.6, 5.8, 6.0, 5.8, 5.6, 5.4, 4.8, 5.4, 6.0, 6.0, 6.4, 6.2, 5.6, 6.0, 6.0, 6.2, 6.4, 5.6, 5.0, 5.0, 6.2, 4.4, 5.8, 4.8, 6.2, 5.8, 5.6, 5.2, 6.2, 5.0, 6.2, 5.8, 5.8, 5.2, 6.8, 5.2, 5.4, 5.0, 4.8, 5.0, 5.8, 5.6, 4.8, 6.8, 5.8, 5.8, 6.4, 5.4, 5.4, 5.6, 6.0, 5.0, 5.8, 5.0, 5.6, 4.8, 6.4, 5.6, 6.4, 5.6, 5.6, 5.4, 5.6, 5.4, 5.4, 5.8, 5.4, 5.4, 5.2, 5.4, 6.2, 5.0, 5.6, 5.0, 5.2, 5.8, 5.0, 5.6, 6.2, 4.8, 5.2, 5.8, 4.6, 5.2, 5.8, 5.6, 5.4, 4.8, 5.6, 4.6, 5.2, 6.2, 5.6, 5.0, 6.2, 6.6, 5.6, 4.4, 5.0, 6.2, 6.4, 5.2, 5.2, 5.6, 4.8, 5.6, 6.4, 4.8, 5.6, 4.6, 5.8, 5.6, 5.6, 5.6, 5.0, 4.8, 6.0, 4.8, 6.0, 5.8, 5.2, 5.2, 4.8, 5.0, 5.2, 5.2, 5.6, 5.6, 6.0, 4.2, 5.4, 6.0, 5.0, 5.6, 5.8, 4.8, 6.6, 5.0, 4.8, 5.4, 5.2, 4.6, 5.6, 6.0, 5.8, 5.2, 6.6, 5.6, 5.6, 4.6, 6.2, 5.4, 6.6, 5.8, 4.6, 6.2, 5.2, 6.0, 6.0, 5.6, 5.6]\n"
     ]
    }
   ],
   "source": [
    "import numpy as np\n",
    "import random as rnd\n",
    "\n",
    "\n",
    "n = 5\n",
    "samples = 1000\n",
    "samples_of_5 = []\n",
    "sample_list = []\n",
    "meanvalue_per_samples_of_5 = []\n",
    "\n",
    "\n",
    "for a in range(samples):\n",
    "    meanvalue_per_samples_of_5.append(np.mean((np.random.randint(4,8,5)))) #Genererar 5 slumpvariabler och sparar sedan medelvärdet av dessa i en lista\n",
    "print(meanvalue_per_samples_of_5)\n"
   ]
  },
  {
   "cell_type": "code",
   "execution_count": 69,
   "metadata": {},
   "outputs": [
    {
     "data": {
      "image/png": "[encoded data removed]",
      "text/plain": [
       "<Figure size 432x288 with 1 Axes>"
      ]
     },
     "metadata": {
      "needs_background": "light"
     },
     "output_type": "display_data"
    }
   ],
   "source": [
    "import matplotlib.pyplot as plt\n",
    "meanvalue_per_samples_of_50 = []\n",
    "for a in range(samples):\n",
    "    meanvalue_per_samples_of_50.append(np.mean((np.random.randint(4,8,50)))) #Genererar 5 slumpvariabler och sparar sedan medelvärdet av dessa i en lista\n",
    "\n",
    "plt.hist(meanvalue_per_samples_of_50, 15)\n",
    "plt.show()"
   ]
  }
 ],
 "metadata": {
  "interpreter": {
   "hash": "b5a6c0b83a5f9320ddb316d9b8aa3c715c2d6a6be85ef1b450fc66453222da78"
  },
  "kernelspec": {
   "display_name": "Python 3.9.6 64-bit ('Databehandling_Fredrik_Hegardt-XTtkVxax': pipenv)",
   "language": "python",
   "name": "python3"
  },
  "language_info": {
   "codemirror_mode": {
    "name": "ipython",
    "version": 3
   },
   "file_extension": ".py",
   "mimetype": "text/x-python",
   "name": "python",
   "nbconvert_exporter": "python",
   "pygments_lexer": "ipython3",
   "version": "3.9.6"
  },
  "orig_nbformat": 4
 },
 "nbformat": 4,
 "nbformat_minor": 2
}
