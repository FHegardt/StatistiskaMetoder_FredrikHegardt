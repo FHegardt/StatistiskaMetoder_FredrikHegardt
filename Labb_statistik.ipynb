{
 "cells": [
  {
   "cell_type": "code",
   "execution_count": 2,
   "metadata": {},
   "outputs": [
    {
     "name": "stdout",
     "output_type": "stream",
     "text": [
      "[5.8, 5.8, 5.4, 5.4, 5.4, 5.8, 6.4, 6.4, 5.6, 5.8, 4.2, 5.6, 5.0, 6.2, 4.4, 4.6, 5.0, 5.6, 5.4, 6.2, 4.4, 5.2, 6.0, 5.4, 5.8, 5.6, 5.6, 6.2, 5.8, 5.4, 5.8, 6.2, 6.4, 6.6, 6.0, 5.8, 5.2, 5.8, 5.6, 6.0, 5.0, 6.0, 5.6, 4.6, 5.2, 5.4, 5.4, 4.8, 5.6, 5.6, 6.0, 6.2, 5.4, 5.4, 6.4, 6.0, 5.4, 6.2, 5.2, 4.8, 5.4, 5.4, 5.2, 5.0, 5.0, 6.0, 5.0, 5.2, 5.0, 6.0, 6.4, 5.6, 5.6, 5.2, 5.8, 4.6, 5.2, 5.6, 5.2, 5.0, 5.8, 5.0, 5.4, 5.6, 5.8, 5.8, 5.6, 5.0, 5.2, 4.4, 5.6, 6.2, 5.8, 5.4, 6.2, 5.6, 6.2, 4.8, 5.0, 6.4, 5.6, 4.8, 5.8, 5.6, 4.8, 5.2, 4.6, 5.8, 5.0, 6.0, 5.6, 5.2, 5.4, 5.8, 5.4, 4.8, 5.4, 5.4, 5.8, 6.0, 5.2, 5.6, 5.6, 5.2, 5.8, 5.0, 5.2, 5.8, 6.0, 5.0, 5.6, 5.6, 5.4, 5.6, 4.8, 5.4, 5.2, 5.2, 6.2, 5.6, 6.2, 4.8, 4.8, 5.4, 5.0, 5.4, 5.4, 5.6, 5.8, 5.6, 4.8, 5.6, 5.6, 5.8, 5.6, 6.0, 5.6, 6.0, 5.0, 4.6, 5.2, 6.4, 4.4, 5.0, 6.2, 5.4, 5.2, 5.8, 5.8, 5.6, 5.8, 5.8, 5.4, 5.6, 5.0, 5.2, 4.8, 6.2, 6.4, 5.2, 5.2, 5.8, 6.2, 5.8, 5.4, 5.8, 5.8, 5.2, 4.8, 5.4, 5.2, 4.8, 6.4, 6.0, 5.0, 5.0, 5.2, 4.6, 5.2, 6.6, 6.0, 5.0, 5.8, 6.2, 5.8, 5.2, 6.0, 5.0, 5.4, 5.4, 5.2, 5.6, 5.6, 5.0, 6.4, 5.4, 4.8, 5.8, 4.4, 5.8, 5.4, 5.6, 5.0, 5.4, 5.2, 5.2, 6.4, 5.0, 5.0, 5.2, 5.6, 5.0, 6.0, 5.4, 5.6, 6.2, 5.0, 6.4, 5.6, 6.0, 5.6, 5.8, 5.4, 5.2, 5.6, 6.2, 5.4, 6.0, 6.2, 5.6, 4.8, 5.0, 5.4, 5.8, 5.6, 5.0, 5.8, 5.8, 5.6, 5.6, 5.0, 5.8, 5.0, 5.0, 4.8, 5.0, 5.8, 6.6, 5.4, 5.8, 5.8, 5.4, 6.4, 4.4, 5.4, 4.6, 5.6, 5.0, 5.6, 5.0, 6.2, 4.8, 6.2, 6.6, 5.2, 5.8, 5.2, 5.4, 5.2, 5.0, 5.8, 5.6, 5.0, 4.8, 6.0, 4.8, 6.2, 6.2, 5.2, 6.6, 5.4, 5.6, 5.8, 5.8, 4.8, 5.2, 5.0, 6.2, 5.0, 5.8, 5.6, 5.2, 6.2, 5.2, 5.4, 5.6, 6.2, 6.0, 4.8, 6.0, 5.4, 4.8, 5.2, 5.8, 5.6, 5.2, 5.2, 6.2, 5.6, 5.0, 6.0, 5.0, 4.2, 5.8, 6.4, 5.2, 5.4, 4.8, 5.8, 5.8, 5.4, 6.0, 5.8, 6.2, 6.0, 6.0, 5.0, 5.0, 5.0, 5.2, 4.6, 6.2, 6.0, 4.6, 6.2, 5.2, 4.8, 4.8, 5.2, 6.0, 5.6, 6.4, 5.2, 5.8, 5.4, 5.0, 5.4, 6.0, 5.2, 5.6, 6.0, 6.0, 6.0, 5.2, 6.2, 5.8, 5.8, 5.0, 6.0, 4.8, 6.0, 5.0, 4.8, 6.2, 5.4, 5.4, 6.0, 5.0, 5.2, 5.2, 5.4, 6.0, 4.4, 6.4, 5.4, 6.0, 5.2, 5.0, 4.8, 6.0, 5.4, 5.2, 6.2, 6.4, 5.2, 5.4, 5.2, 4.8, 4.8, 6.2, 5.6, 6.6, 5.6, 5.8, 5.6, 5.2, 4.8, 5.2, 6.2, 5.0, 6.6, 5.2, 6.4, 4.8, 5.4, 6.0, 5.8, 5.4, 4.8, 5.6, 5.2, 4.8, 5.4, 5.4, 6.4, 5.8, 5.4, 5.0, 5.2, 4.8, 5.0, 5.8, 5.4, 5.8, 5.0, 5.4, 5.0, 6.2, 5.0, 5.4, 5.2, 6.2, 4.8, 6.2, 4.6, 5.2, 5.4, 5.2, 5.4, 5.8, 5.2, 5.6, 6.0, 5.4, 5.4, 6.2, 5.2, 5.6, 5.4, 5.6, 5.0, 5.2, 6.8, 5.0, 5.4, 5.2, 5.6, 5.0, 5.8, 6.2, 5.8, 4.6, 5.6, 5.4, 5.2, 5.8, 5.4, 4.8, 5.8, 5.0, 5.6, 5.2, 6.4, 5.8, 5.4, 5.8, 5.8, 5.8, 5.0, 5.8, 4.6, 4.8, 6.0, 5.0, 5.8, 4.2, 5.6, 6.8, 6.0, 5.0, 5.8, 6.2, 5.2, 5.4, 5.0, 5.8, 5.8, 5.6, 5.8, 6.2, 5.6, 4.6, 5.4, 5.4, 5.4, 5.4, 5.0, 5.4, 5.0, 6.2, 5.4, 4.4, 6.0, 5.2, 5.8, 4.6, 5.4, 6.0, 5.4, 5.8, 6.0, 5.4, 5.4, 5.4, 5.4, 5.6, 5.2, 5.8, 5.6, 5.4, 5.0, 5.6, 5.4, 5.6, 6.0, 5.0, 6.4, 5.6, 5.4, 6.0, 4.6, 5.6, 5.4, 4.8, 5.2, 5.4, 6.4, 4.8, 5.2, 5.2, 5.4, 5.0, 5.4, 5.6, 5.0, 5.6, 5.8, 5.2, 5.8, 5.4, 5.4, 5.8, 4.8, 6.2, 6.2, 5.4, 5.8, 4.8, 6.0, 5.8, 5.6, 4.8, 5.4, 5.4, 6.0, 5.4, 6.0, 5.0, 5.8, 5.2, 6.2, 5.6, 4.8, 5.2, 4.6, 5.4, 5.8, 5.8, 5.2, 5.0, 5.0, 5.4, 5.2, 5.8, 6.0, 4.4, 5.4, 6.2, 5.4, 5.4, 6.0, 4.6, 5.2, 6.0, 5.0, 6.0, 5.2, 5.8, 5.8, 5.2, 4.8, 6.4, 5.2, 6.0, 5.4, 5.8, 5.4, 5.4, 5.6, 4.8, 5.2, 5.8, 6.0, 4.8, 6.6, 5.6, 6.0, 6.2, 6.0, 5.6, 5.8, 5.4, 5.8, 5.4, 6.8, 6.2, 6.2, 5.8, 5.4, 5.8, 5.2, 6.4, 6.4, 5.2, 5.6, 6.0, 4.4, 4.6, 6.4, 5.8, 5.8, 5.4, 5.0, 5.4, 5.6, 5.8, 5.4, 6.0, 5.2, 4.8, 5.8, 6.2, 5.2, 5.8, 5.6, 5.0, 5.4, 5.8, 5.0, 5.0, 5.4, 6.0, 6.4, 4.8, 5.4, 6.4, 5.2, 6.4, 5.2, 5.6, 5.2, 5.6, 6.2, 5.6, 6.0, 5.6, 5.2, 6.0, 5.6, 5.6, 6.0, 4.8, 5.2, 6.6, 6.2, 5.6, 5.6, 6.6, 5.8, 5.4, 5.6, 5.8, 5.2, 6.4, 5.2, 5.4, 5.0, 5.4, 6.4, 5.4, 5.0, 4.8, 5.8, 5.4, 5.2, 5.8, 5.2, 5.4, 6.2, 5.2, 5.0, 5.4, 5.6, 6.4, 5.4, 5.4, 5.6, 5.6, 5.2, 6.0, 5.6, 5.8, 5.2, 5.4, 5.8, 6.0, 5.8, 5.8, 5.8, 5.2, 5.8, 5.4, 5.6, 6.0, 5.4, 6.2, 4.8, 6.4, 5.2, 4.8, 5.8, 6.2, 6.0, 5.6, 4.6, 6.2, 4.4, 5.2, 5.2, 6.2, 5.0, 5.4, 5.2, 4.6, 5.4, 5.4, 5.2, 5.8, 5.8, 6.0, 5.8, 4.6, 6.0, 5.6, 5.6, 5.8, 5.2, 6.2, 6.0, 4.6, 5.0, 6.4, 6.2, 5.8, 5.4, 5.4, 5.4, 5.6, 5.8, 5.0, 5.2, 5.6, 5.8, 5.4, 5.4, 5.4, 5.8, 5.0, 5.0, 5.4, 5.6, 5.6, 5.8, 6.2, 4.8, 4.6, 5.4, 5.4, 5.8, 4.8, 6.0, 5.2, 6.0, 5.8, 5.4, 5.2, 5.4, 5.8, 5.4, 5.6, 5.4, 4.8, 5.4, 5.8, 5.0, 5.4, 6.4, 6.4, 5.6, 6.0, 5.2, 4.4, 5.6, 6.0, 5.8, 5.2, 4.8, 5.6, 5.6, 5.0, 5.6, 5.0, 5.2, 5.6, 5.2, 5.2, 5.6, 6.0, 5.6, 5.4, 6.4, 5.4, 5.4, 5.2, 5.6, 5.8, 5.8, 5.6, 5.8, 5.4, 6.0, 5.2, 5.0, 5.4, 5.2, 5.4, 5.4, 5.0, 5.0, 6.4, 5.2, 6.4, 5.2, 5.4, 5.4, 5.4, 5.2, 4.8, 4.6, 5.2, 6.4, 6.4, 6.2, 6.0, 4.6, 5.4, 4.8, 5.2, 5.6, 5.6, 5.4, 5.2, 6.0, 5.2, 5.4, 6.2, 5.6, 4.6, 6.6, 4.8, 5.6, 4.6, 5.6, 5.8, 5.4, 6.0, 5.2, 5.0, 6.0, 5.6, 4.6, 5.2, 6.2, 5.4, 5.8, 5.2, 5.2, 6.0, 4.6, 5.8, 5.8, 5.2, 4.4, 5.6, 5.4, 5.2, 5.6, 5.4, 5.2, 6.2, 5.6, 5.6, 5.2, 5.2, 5.4, 6.2, 6.8, 5.0, 5.0, 6.0, 5.6, 5.2, 5.4, 5.0, 5.8, 4.6, 6.8, 4.2, 5.6, 6.0, 5.0, 5.2, 5.2, 5.4, 5.8, 5.0, 5.2, 5.4, 5.6, 5.2, 5.8, 5.6, 5.4, 5.6, 5.6, 5.8, 4.8, 5.2, 6.0, 5.6, 6.2, 5.6, 5.2, 5.2, 5.4, 6.2, 5.6, 5.8, 5.4, 4.2]\n"
     ]
    }
   ],
   "source": [
    "#Uppgift 1:1\n",
    "import numpy as np\n",
    "import random as rnd\n",
    "\n",
    "\n",
    "n = 5\n",
    "samples = 1000\n",
    "samples_of_5 = []\n",
    "sample_list = []\n",
    "meanvalue_per_samples_of_5 = []\n",
    "\n",
    "\n",
    "for a in range(samples):\n",
    "    meanvalue_per_samples_of_5.append(np.mean((np.random.randint(4,8,5)))) #Genererar 5 slumpvariabler och sparar sedan medelvärdet av dessa i en lista\n",
    "print(meanvalue_per_samples_of_5)\n"
   ]
  },
  {
   "cell_type": "code",
   "execution_count": 3,
   "metadata": {},
   "outputs": [
    {
     "data": {
      "image/png": "[encoded data removed]",
      "text/plain": [
       "<Figure size 432x288 with 1 Axes>"
      ]
     },
     "metadata": {
      "needs_background": "light"
     },
     "output_type": "display_data"
    },
    {
     "data": {
      "image/png": "[encoded data removed]",
      "text/plain": [
       "<Figure size 432x288 with 1 Axes>"
      ]
     },
     "metadata": {
      "needs_background": "light"
     },
     "output_type": "display_data"
    },
    {
     "data": {
      "image/png": "[encoded data removed]",
      "text/plain": [
       "<Figure size 432x288 with 1 Axes>"
      ]
     },
     "metadata": {
      "needs_background": "light"
     },
     "output_type": "display_data"
    },
    {
     "data": {
      "image/png": "[encoded data removed]",
      "text/plain": [
       "<Figure size 432x288 with 1 Axes>"
      ]
     },
     "metadata": {
      "needs_background": "light"
     },
     "output_type": "display_data"
    },
    {
     "data": {
      "image/png": "[encoded data removed]",
      "text/plain": [
       "<Figure size 432x288 with 1 Axes>"
      ]
     },
     "metadata": {
      "needs_background": "light"
     },
     "output_type": "display_data"
    }
   ],
   "source": [
    "#Uppgift 1:2\n",
    "\n",
    "import matplotlib.pyplot as plt\n",
    "samples = 1000 #Antal stickprov\n",
    "sample_size = [2,10,20,30,50] #Stickprovsstorlekar\n",
    "u = (4+7)/2\n",
    "o = np.sqrt(1.25)\n",
    "\n",
    "\n",
    "for b in range(len(sample_size)):\n",
    "    data_standard_mean = []\n",
    "    data_mean = []\n",
    "    for a in range(samples):\n",
    "        sample = (np.mean((np.random.randint(4,8,sample_size[b])))) #Genererar medelvärdet av x slumpvariabler\n",
    "        data_mean.append(sample)\n",
    "        data_standard_mean.append((sample-u) / (o/(np.sqrt(sample_size[b])))) #Standardiserar medelvärdena och sparar i en lista\n",
    "    plt.hist(data_standard_mean, 10)\n",
    "    plt.show()\n",
    "    \n",
    "    "
   ]
  },
  {
   "cell_type": "code",
   "execution_count": 113,
   "metadata": {},
   "outputs": [
    {
     "name": "stdout",
     "output_type": "stream",
     "text": [
      "5.5\n"
     ]
    }
   ],
   "source": [
    "#Uppgift 1:3\n",
    "\n",
    "# u = a+b/2\n",
    "u = (7+4)/2\n",
    "print(u)"
   ]
  },
  {
   "cell_type": "code",
   "execution_count": 114,
   "metadata": {},
   "outputs": [
    {
     "name": "stdout",
     "output_type": "stream",
     "text": [
      "1.118033988749895\n"
     ]
    }
   ],
   "source": [
    "#Uppgift 1:4\n",
    "\n",
    "# o = (rotenur 1.25)\n",
    "o = (np.sqrt(1.25))\n",
    "print(o)\n"
   ]
  },
  {
   "cell_type": "code",
   "execution_count": null,
   "metadata": {},
   "outputs": [],
   "source": [
    "#Uppgift 1:5\n",
    "\n",
    "#När stickprovsmängden ökar så blir stickprovsmedelvärdet mindre spretigt och närmar sig mitten."
   ]
  },
  {
   "cell_type": "code",
   "execution_count": 136,
   "metadata": {},
   "outputs": [
    {
     "name": "stdout",
     "output_type": "stream",
     "text": [
      "227\n",
      "Av 1000 stickprov så fanns 948 innanför det 95%:iga konfidensintervallet och 52 befann sig utanför. Det innebär 94.8%\n",
      "Av 1000 stickprov så förkastar vi nollhypotesen 773 gånger\n"
     ]
    }
   ],
   "source": [
    "#Uppgift 1:6 och #Uppgift 1:7\n",
    "Inside_interval = 0\n",
    "Outside_interval = 0\n",
    "zero_hypothese_is_trash = 0\n",
    "zero_hypothese_is_not_trash = 0\n",
    "\n",
    "for i in range(samples):\n",
    "    if u > (data_mean[i] - (1.96*o) / (np.sqrt(50))) and u < (data_mean[i] + (1.96*o) / (np.sqrt(50))):\n",
    "        Inside_interval += 1\n",
    "    else:\n",
    "        Outside_interval += 1\n",
    "\n",
    "    if (data_mean[i] - 5.1) /(o/np.sqrt(50)) > 1.645:\n",
    "        zero_hypothese_is_trash +=1\n",
    "    else:\n",
    "        zero_hypothese_is_not_trash +=1\n",
    "\n",
    "\n",
    "    \n",
    "print(f\"Av 1000 stickprov så fanns {Inside_interval} innanför det 95%:iga konfidensintervallet och {Outside_interval} befann sig utanför. Det innebär {Inside_interval/10}%\")\n",
    "print(f\"Av 1000 stickprov så förkastar vi nollhypotesen {zero_hypothese_is_trash} gånger\")"
   ]
  }
 ],
 "metadata": {
  "interpreter": {
   "hash": "b5a6c0b83a5f9320ddb316d9b8aa3c715c2d6a6be85ef1b450fc66453222da78"
  },
  "kernelspec": {
   "display_name": "Python 3.9.6 64-bit ('Databehandling_Fredrik_Hegardt-XTtkVxax': pipenv)",
   "language": "python",
   "name": "python3"
  },
  "language_info": {
   "codemirror_mode": {
    "name": "ipython",
    "version": 3
   },
   "file_extension": ".py",
   "mimetype": "text/x-python",
   "name": "python",
   "nbconvert_exporter": "python",
   "pygments_lexer": "ipython3",
   "version": "3.9.6"
  },
  "orig_nbformat": 4
 },
 "nbformat": 4,
 "nbformat_minor": 2
}
