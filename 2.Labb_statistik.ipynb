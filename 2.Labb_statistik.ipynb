{
 "cells": [
  {
   "cell_type": "code",
   "execution_count": 18,
   "metadata": {},
   "outputs": [
    {
     "data": {
      "image/png": "[encoded data removed]",
      "text/plain": [
       "<Figure size 432x288 with 1 Axes>"
      ]
     },
     "metadata": {
      "needs_background": "light"
     },
     "output_type": "display_data"
    }
   ],
   "source": [
    "#Uppgift 2.8\n",
    "import numpy as np\n",
    "import matplotlib.pyplot as plt\n",
    "\n",
    "samples = 200 #Antal stickprov\n",
    "sample_size = 5 #Stickprovsstorlekar\n",
    "u = (7+12)/2\n",
    "o = np.sqrt(1.25)\n",
    "\n",
    "\n",
    "\n",
    "data_standard_mean = []\n",
    "data_mean = []\n",
    "for a in range(samples):\n",
    "    sample = ((np.random.uniform(7,12,sample_size))) #Genererar medelvärdet av x slumpvariabler\n",
    "    sample_mean = np.mean(sample)\n",
    "    data_mean.append((sample))\n",
    "    data_standard_mean.append((sample_mean-u) / (o/(np.sqrt(sample_size)))) #Standardiserar medelvärdena och sparar i en lista\n",
    "\n",
    "\n",
    "new_list = []\n",
    "for a in range(200):\n",
    "    for b in range(5):\n",
    "        new_list.append(data_mean[a][b])\n",
    "\n",
    "plt.hist(new_list, 10)\n",
    "plt.show()\n",
    "\n",
    "    "
   ]
  },
  {
   "cell_type": "code",
   "execution_count": 20,
   "metadata": {},
   "outputs": [
    {
     "data": {
      "image/png": "[encoded data removed]",
      "text/plain": [
       "<Figure size 432x288 with 1 Axes>"
      ]
     },
     "metadata": {
      "needs_background": "light"
     },
     "output_type": "display_data"
    }
   ],
   "source": [
    "#Uppgift 2.9\n",
    "\n",
    "plt.hist(data_standard_mean, 10)\n",
    "plt.show()"
   ]
  },
  {
   "cell_type": "code",
   "execution_count": null,
   "metadata": {},
   "outputs": [],
   "source": [
    "#Uppgift 2.10 och 2.11"
   ]
  }
 ],
 "metadata": {
  "interpreter": {
   "hash": "b5a6c0b83a5f9320ddb316d9b8aa3c715c2d6a6be85ef1b450fc66453222da78"
  },
  "kernelspec": {
   "display_name": "Python 3.9.6 64-bit ('Databehandling_Fredrik_Hegardt-XTtkVxax': pipenv)",
   "language": "python",
   "name": "python3"
  },
  "language_info": {
   "codemirror_mode": {
    "name": "ipython",
    "version": 3
   },
   "file_extension": ".py",
   "mimetype": "text/x-python",
   "name": "python",
   "nbconvert_exporter": "python",
   "pygments_lexer": "ipython3",
   "version": "3.9.6"
  },
  "orig_nbformat": 4
 },
 "nbformat": 4,
 "nbformat_minor": 2
}
